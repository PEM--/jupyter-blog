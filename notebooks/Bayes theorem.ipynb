{
 "cells": [
  {
   "cell_type": "markdown",
   "metadata": {},
   "source": [
    "# Bayes theorem\n",
    "## Canonical formulae\n",
    "\n",
    "$$\n",
    "P(A|B)=\\frac{P(B|A) \\cdot P(A)}{P(B)}\n",
    "$$"
   ]
  },
  {
   "cell_type": "markdown",
   "metadata": {},
   "source": [
    "## Case 1: Pick one coin\n",
    "\n",
    "We have a bag with 2 coins, $C_1$ and $C_2$ such as:\n",
    "* Probability of head H when $C_1$ is drawn: $P(H|C_1) = p_1$\n",
    "* Probability of head H when $C_2$ is drawn: $P(H|C_2) = p_2$\n",
    "\n",
    "$p_0$ is the probability of drawing $C_1$ from the bag.\n",
    "\n",
    "$P(C_1) = p_0$\n",
    "\n",
    "$P(C_2) = P(\\neg C_1) = 1 - p_0$\n",
    "\n",
    "The normalized probability of head is:\n",
    "$$\n",
    "\\begin{aligned}\n",
    "    P(H) &= P(H, C_1) + P(H, C_2) \\\\\n",
    "         &= P(C_1) \\cdot P(H|C_1) + P(C_2) \\cdot P(H|C_2) \\\\\n",
    "         &= p_0 \\cdot p_1 + (1 - p_0) \\cdot p_2\n",
    "\\end{aligned}\n",
    "$$"
   ]
  },
  {
   "cell_type": "code",
   "execution_count": 1,
   "metadata": {},
   "outputs": [
    {
     "name": "stdout",
     "output_type": "stream",
     "text": [
      "0.78\n"
     ]
    }
   ],
   "source": [
    "def normPH(p0, p1, p2):\n",
    "    return p0*p1 + (1-p0)*p2\n",
    "\n",
    "print(normPH(.3, .5, .9))"
   ]
  },
  {
   "cell_type": "markdown",
   "metadata": {},
   "source": [
    "## Case 2: Cancer detection\n",
    "\n",
    "Cancer probability and tests (sensitivity, specivity):\n",
    "$$\n",
    "\\begin{aligned}\n",
    "P(C) &= p_0 \\\\\n",
    "P(Pos|C) &= p_1 \\\\\n",
    "P(Neg|\\neg C) &= p_2\n",
    "\\end{aligned}\n",
    "$$\n",
    "\n",
    "The normalized probability of having a positive cancer test result is:\n",
    "\n",
    "$$\n",
    "\\begin{aligned}\n",
    "P(Pos) &= P(Pos,C) + P(Pos,\\neg C) \\\\\n",
    "       &= P(C) \\cdot P(Pos|C) + \\neg P(C) \\cdot \\neg P(Neg|\\neg C) \\\\\n",
    "       &= p_0 \\cdot p_1 + (1 - p_0) \\cdot (1 - p_2)\n",
    "\\end{aligned}\n",
    "$$"
   ]
  },
  {
   "cell_type": "code",
   "execution_count": 2,
   "metadata": {},
   "outputs": [
    {
     "name": "stdout",
     "output_type": "stream",
     "text": [
      "0.26999999999999996\n"
     ]
    }
   ],
   "source": [
    "def normPPos(p0, p1, p2):\n",
    "    return p0*p1 + (1-p0)*(1-p2)\n",
    "\n",
    "print(normPPos(.1, .9, .8))"
   ]
  },
  {
   "cell_type": "markdown",
   "metadata": {},
   "source": [
    "Now, using Bayes theorem, we can infere the probability of having a cancer when the test result is positive:\n",
    "\n",
    "$$P(C|Pos) = \\frac{P(C) \\cdot P(Pos|C)}{P(Pos)}$$"
   ]
  },
  {
   "cell_type": "code",
   "execution_count": 3,
   "metadata": {},
   "outputs": [
    {
     "name": "stdout",
     "output_type": "stream",
     "text": [
      "0.3333333333333334\n"
     ]
    }
   ],
   "source": [
    "def probCknowingPos(p0, p1, p2):\n",
    "    return p0 * p1 / normPPos(p0, p1, p2)\n",
    "\n",
    "print(probCknowingPos(.1, .9, .8))"
   ]
  },
  {
   "cell_type": "markdown",
   "metadata": {},
   "source": [
    "Identically, we can infere the probability of still having a cancer while the test result is negative:\n",
    "\n",
    "$$\n",
    "P(C|Neg) = \\frac{P(C) \\cdot P(Neg|C)}{P(Neg)}\n",
    "$$"
   ]
  },
  {
   "cell_type": "code",
   "execution_count": 4,
   "metadata": {},
   "outputs": [
    {
     "name": "stdout",
     "output_type": "stream",
     "text": [
      "0.013698630136986299\n"
     ]
    }
   ],
   "source": [
    "def probCknowingNeg(p0, p1, p2):\n",
    "    return p0 * (1-p1) / (1 - normPPos(p0, p1, p2))\n",
    "\n",
    "print(probCknowingNeg(.1, .9, .8))"
   ]
  }
 ],
 "metadata": {
  "kernelspec": {
   "display_name": "Python 3",
   "language": "python",
   "name": "python3"
  },
  "language_info": {
   "codemirror_mode": {
    "name": "ipython",
    "version": 3
   },
   "file_extension": ".py",
   "mimetype": "text/x-python",
   "name": "python",
   "nbconvert_exporter": "python",
   "pygments_lexer": "ipython3",
   "version": "3.6.7"
  }
 },
 "nbformat": 4,
 "nbformat_minor": 2
}
